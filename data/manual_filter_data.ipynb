{
 "cells": [
  {
   "cell_type": "code",
   "execution_count": 1,
   "metadata": {},
   "outputs": [],
   "source": [
    "import geojson\n",
    "\n",
    "def select_properties(geojson_file, properties):\n",
    "    with open(geojson_file, 'r') as file:\n",
    "        data = geojson.load(file)\n",
    "\n",
    "    # Select only specified properties for each feature\n",
    "    for feature in data.features:\n",
    "        feature.properties = {prop: feature.properties[prop] for prop in properties}\n",
    "\n",
    "    # Save the modified GeoJSON file\n",
    "    with open('modified_geojson.geojson', 'w') as file:\n",
    "        geojson.dump(data, file)\n",
    "\n",
    "\n"
   ]
  },
  {
   "cell_type": "code",
   "execution_count": 3,
   "metadata": {},
   "outputs": [],
   "source": [
    "# Specify the path to your GeoJSON file\n",
    "# Example usage: Select only 'property1' and 'property2' for each feature\n",
    "properties_to_select = ['name311', 'location']\n",
    "\n",
    "geojson_file = 'nyc-parks.geojson'\n",
    "\n",
    "# Select properties for each feature\n",
    "select_properties(geojson_file, properties_to_select)\n"
   ]
  }
 ],
 "metadata": {
  "kernelspec": {
   "display_name": "Python 3",
   "language": "python",
   "name": "python3"
  },
  "language_info": {
   "codemirror_mode": {
    "name": "ipython",
    "version": 3
   },
   "file_extension": ".py",
   "mimetype": "text/x-python",
   "name": "python",
   "nbconvert_exporter": "python",
   "pygments_lexer": "ipython3",
   "version": "3.9.6"
  },
  "orig_nbformat": 4
 },
 "nbformat": 4,
 "nbformat_minor": 2
}
